{
    "metadata": {
        "kernelspec": {
            "name": "SQL",
            "display_name": "SQL",
            "language": "sql"
        },
        "language_info": {
            "name": "sql",
            "version": ""
        }
    },
    "nbformat_minor": 2,
    "nbformat": 4,
    "cells": [
        {
            "cell_type": "markdown",
            "source": [
                "# NDS Data Quality Check"
            ],
            "metadata": {
                "azdata_cell_guid": "220437c9-12cd-4331-95f1-34bb34837015"
            },
            "attachments": {}
        },
        {
            "cell_type": "markdown",
            "source": [
                "## Row counts comparison between NDS and Stage"
            ],
            "metadata": {
                "language": "sql",
                "azdata_cell_guid": "6fb78482-49da-4c99-a792-dfe55e84d621"
            },
            "attachments": {}
        },
        {
            "cell_type": "code",
            "source": [
                "-- Conbine row count from tables of Stage and NDS\r\n",
                "SELECT table_name,[NDS],[Stage], \r\n",
                "\t   COALESCE([NDS],0) - COALESCE([Stage],0) AS nds_Stage_diff\r\n",
                "FROM (\r\n",
                "\tSELECT \r\n",
                "\t\t  'Stage' AS db,t.name AS table_name,\r\n",
                "\t\t   SUM(p.row_count) AS row_count\r\n",
                "\t\tFROM \r\n",
                "\t  Stage.sys.tables AS t\r\n",
                "\t  INNER JOIN \r\n",
                "\t\t(SELECT ss.object_id, SUM(ss.row_count) AS row_count \r\n",
                "\t\t FROM Stage.sys.dm_db_partition_stats ss\r\n",
                "\t\t WHERE ss.index_id < 2\r\n",
                "\t\t GROUP BY ss.object_id) AS p \r\n",
                "\t  ON t.object_id = p.object_id\r\n",
                "\tGROUP BY t.name\r\n",
                "\tUNION\r\n",
                "\tSELECT \r\n",
                "\t  'NDS' AS db,t.name AS table_name,\r\n",
                "\t  SUM(p.row_count) AS row_count\r\n",
                "\tFROM \r\n",
                "\t  NDS.sys.tables AS t\r\n",
                "\t  INNER JOIN \r\n",
                "\t\t(SELECT ss.object_id, SUM(ss.row_count) AS row_count \r\n",
                "\t\t FROM NDS.sys.dm_db_partition_stats ss\r\n",
                "\t\t WHERE ss.index_id < 2\r\n",
                "\t\t GROUP BY ss.object_id) AS p \r\n",
                "\t  ON t.object_id = p.object_id\r\n",
                "\tGROUP BY t.name\r\n",
                "\t) as src\r\n",
                "\tPIVOT(SUM(row_count)\r\n",
                "\t  FOR db IN (NDS,Stage)\r\n",
                "\t  ) AS piv\r\n",
                ""
            ],
            "metadata": {
                "azdata_cell_guid": "3eef2a38-7052-4b58-85e8-ee0fd9127495",
                "language": "sql"
            },
            "outputs": [
                {
                    "output_type": "display_data",
                    "data": {
                        "text/html": "(59 rows affected)"
                    },
                    "metadata": {}
                },
                {
                    "output_type": "display_data",
                    "data": {
                        "text/html": "Total execution time: 00:00:01.367"
                    },
                    "metadata": {}
                },
                {
                    "output_type": "execute_result",
                    "execution_count": 1,
                    "data": {
                        "application/vnd.dataresource+json": {
                            "schema": {
                                "fields": [
                                    {
                                        "name": "table_name"
                                    },
                                    {
                                        "name": "NDS"
                                    },
                                    {
                                        "name": "Stage"
                                    },
                                    {
                                        "name": "nds_Stage_diff"
                                    }
                                ]
                            },
                            "data": [
                                {
                                    "0": "address",
                                    "1": "108412",
                                    "2": "NULL",
                                    "3": "108412"
                                },
                                {
                                    "0": "address_junction",
                                    "1": "49592",
                                    "2": "NULL",
                                    "3": "49592"
                                },
                                {
                                    "0": "address_type",
                                    "1": "2",
                                    "2": "2",
                                    "3": "0"
                                },
                                {
                                    "0": "artist",
                                    "1": "597",
                                    "2": "576",
                                    "3": "21"
                                },
                                {
                                    "0": "business_unit",
                                    "1": "0",
                                    "2": "NULL",
                                    "3": "0"
                                },
                                {
                                    "0": "campaign",
                                    "1": "0",
                                    "2": "NULL",
                                    "3": "0"
                                },
                                {
                                    "0": "campaign_result",
                                    "1": "0",
                                    "2": "NULL",
                                    "3": "0"
                                },
                                {
                                    "0": "channel",
                                    "1": "6",
                                    "2": "NULL",
                                    "3": "6"
                                },
                                {
                                    "0": "channel_junction",
                                    "1": "108316",
                                    "2": "NULL",
                                    "3": "108316"
                                },
                                {
                                    "0": "city",
                                    "1": "341",
                                    "2": "NULL",
                                    "3": "341"
                                },
                                {
                                    "0": "communication",
                                    "1": "0",
                                    "2": "NULL",
                                    "3": "0"
                                },
                                {
                                    "0": "communication_category",
                                    "1": "0",
                                    "2": "NULL",
                                    "3": "0"
                                },
                                {
                                    "0": "communication_subscription",
                                    "1": "0",
                                    "2": "NULL",
                                    "3": "0"
                                },
                                {
                                    "0": "contact",
                                    "1": "0",
                                    "2": "NULL",
                                    "3": "0"
                                },
                                {
                                    "0": "country",
                                    "1": "243",
                                    "2": "243",
                                    "3": "0"
                                },
                                {
                                    "0": "currency",
                                    "1": "175",
                                    "2": "175",
                                    "3": "0"
                                },
                                {
                                    "0": "currency_rate",
                                    "1": "121",
                                    "2": "121",
                                    "3": "0"
                                },
                                {
                                    "0": "customer",
                                    "1": "54158",
                                    "2": "54158",
                                    "3": "0"
                                },
                                {
                                    "0": "customer_status",
                                    "1": "4",
                                    "2": "4",
                                    "3": "0"
                                },
                                {
                                    "0": "customer_type",
                                    "1": "3",
                                    "2": "3",
                                    "3": "0"
                                },
                                {
                                    "0": "delivery_status",
                                    "1": "0",
                                    "2": "NULL",
                                    "3": "0"
                                },
                                {
                                    "0": "delivery_status_category",
                                    "1": "0",
                                    "2": "NULL",
                                    "3": "0"
                                },
                                {
                                    "0": "division",
                                    "1": "3",
                                    "2": "3",
                                    "3": "0"
                                },
                                {
                                    "0": "email_address",
                                    "1": "54155",
                                    "2": "NULL",
                                    "3": "54155"
                                },
                                {
                                    "0": "email_address_junction",
                                    "1": "54158",
                                    "2": "NULL",
                                    "3": "54158"
                                },
                                {
                                    "0": "email_address_type",
                                    "1": "2",
                                    "2": "2",
                                    "3": "0"
                                },
                                {
                                    "0": "format",
                                    "1": "28",
                                    "2": "27",
                                    "3": "1"
                                },
                                {
                                    "0": "household_income",
                                    "1": "11",
                                    "2": "11",
                                    "3": "0"
                                },
                                {
                                    "0": "interest",
                                    "1": "38",
                                    "2": "38",
                                    "3": "0"
                                },
                                {
                                    "0": "interest_junction",
                                    "1": "160351",
                                    "2": "NULL",
                                    "3": "160351"
                                },
                                {
                                    "0": "language",
                                    "1": "0",
                                    "2": "505",
                                    "3": "-505"
                                },
                                {
                                    "0": "lead",
                                    "1": "0",
                                    "2": "NULL",
                                    "3": "0"
                                },
                                {
                                    "0": "media",
                                    "1": "6",
                                    "2": "NULL",
                                    "3": "6"
                                },
                                {
                                    "0": "occupation",
                                    "1": "101",
                                    "2": "101",
                                    "3": "0"
                                },
                                {
                                    "0": "order_detail",
                                    "1": "NULL",
                                    "2": "63778",
                                    "3": "-63778"
                                },
                                {
                                    "0": "order_header",
                                    "1": "44425",
                                    "2": "44425",
                                    "3": "0"
                                },
                                {
                                    "0": "order_item",
                                    "1": "63770",
                                    "2": "NULL",
                                    "3": "63770"
                                },
                                {
                                    "0": "package",
                                    "1": "0",
                                    "2": "24",
                                    "3": "-24"
                                },
                                {
                                    "0": "package_type",
                                    "1": "0",
                                    "2": "6",
                                    "3": "-6"
                                },
                                {
                                    "0": "permission",
                                    "1": "2",
                                    "2": "2",
                                    "3": "0"
                                },
                                {
                                    "0": "phone_number",
                                    "1": "52822",
                                    "2": "NULL",
                                    "3": "52822"
                                },
                                {
                                    "0": "phone_number_junction",
                                    "1": "54158",
                                    "2": "NULL",
                                    "3": "54158"
                                },
                                {
                                    "0": "phone_number_type",
                                    "1": "2",
                                    "2": "2",
                                    "3": "0"
                                },
                                {
                                    "0": "product",
                                    "1": "2459",
                                    "2": "2458",
                                    "3": "1"
                                },
                                {
                                    "0": "product_category",
                                    "1": "4",
                                    "2": "3",
                                    "3": "1"
                                },
                                {
                                    "0": "product_status",
                                    "1": "6",
                                    "2": "4",
                                    "3": "2"
                                },
                                {
                                    "0": "product_type",
                                    "1": "66",
                                    "2": "65",
                                    "3": "1"
                                },
                                {
                                    "0": "region",
                                    "1": "11",
                                    "2": "11",
                                    "3": "0"
                                },
                                {
                                    "0": "state",
                                    "1": "50",
                                    "2": "50",
                                    "3": "0"
                                },
                                {
                                    "0": "store",
                                    "1": "102",
                                    "2": "102",
                                    "3": "0"
                                },
                                {
                                    "0": "store_type",
                                    "1": "4",
                                    "2": "NULL",
                                    "3": "4"
                                },
                                {
                                    "0": "subscriber_band",
                                    "1": "4",
                                    "2": "NULL",
                                    "3": "4"
                                },
                                {
                                    "0": "subscriber_class",
                                    "1": "4",
                                    "2": "NULL",
                                    "3": "4"
                                },
                                {
                                    "0": "subscription_sales",
                                    "1": "0",
                                    "2": "NULL",
                                    "3": "0"
                                },
                                {
                                    "0": "subscription_status",
                                    "1": "0",
                                    "2": "NULL",
                                    "3": "0"
                                },
                                {
                                    "0": "supplier",
                                    "1": "0",
                                    "2": "NULL",
                                    "3": "0"
                                },
                                {
                                    "0": "supplier_performance",
                                    "1": "0",
                                    "2": "NULL",
                                    "3": "0"
                                },
                                {
                                    "0": "supplier_status",
                                    "1": "0",
                                    "2": "NULL",
                                    "3": "0"
                                },
                                {
                                    "0": "sysdiagrams",
                                    "1": "5",
                                    "2": "NULL",
                                    "3": "5"
                                }
                            ]
                        },
                        "text/html": "<table><tr><th>table_name</th><th>NDS</th><th>Stage</th><th>nds_Stage_diff</th></tr><tr><td>address</td><td>108412</td><td>NULL</td><td>108412</td></tr><tr><td>address_junction</td><td>49592</td><td>NULL</td><td>49592</td></tr><tr><td>address_type</td><td>2</td><td>2</td><td>0</td></tr><tr><td>artist</td><td>597</td><td>576</td><td>21</td></tr><tr><td>business_unit</td><td>0</td><td>NULL</td><td>0</td></tr><tr><td>campaign</td><td>0</td><td>NULL</td><td>0</td></tr><tr><td>campaign_result</td><td>0</td><td>NULL</td><td>0</td></tr><tr><td>channel</td><td>6</td><td>NULL</td><td>6</td></tr><tr><td>channel_junction</td><td>108316</td><td>NULL</td><td>108316</td></tr><tr><td>city</td><td>341</td><td>NULL</td><td>341</td></tr><tr><td>communication</td><td>0</td><td>NULL</td><td>0</td></tr><tr><td>communication_category</td><td>0</td><td>NULL</td><td>0</td></tr><tr><td>communication_subscription</td><td>0</td><td>NULL</td><td>0</td></tr><tr><td>contact</td><td>0</td><td>NULL</td><td>0</td></tr><tr><td>country</td><td>243</td><td>243</td><td>0</td></tr><tr><td>currency</td><td>175</td><td>175</td><td>0</td></tr><tr><td>currency_rate</td><td>121</td><td>121</td><td>0</td></tr><tr><td>customer</td><td>54158</td><td>54158</td><td>0</td></tr><tr><td>customer_status</td><td>4</td><td>4</td><td>0</td></tr><tr><td>customer_type</td><td>3</td><td>3</td><td>0</td></tr><tr><td>delivery_status</td><td>0</td><td>NULL</td><td>0</td></tr><tr><td>delivery_status_category</td><td>0</td><td>NULL</td><td>0</td></tr><tr><td>division</td><td>3</td><td>3</td><td>0</td></tr><tr><td>email_address</td><td>54155</td><td>NULL</td><td>54155</td></tr><tr><td>email_address_junction</td><td>54158</td><td>NULL</td><td>54158</td></tr><tr><td>email_address_type</td><td>2</td><td>2</td><td>0</td></tr><tr><td>format</td><td>28</td><td>27</td><td>1</td></tr><tr><td>household_income</td><td>11</td><td>11</td><td>0</td></tr><tr><td>interest</td><td>38</td><td>38</td><td>0</td></tr><tr><td>interest_junction</td><td>160351</td><td>NULL</td><td>160351</td></tr><tr><td>language</td><td>0</td><td>505</td><td>-505</td></tr><tr><td>lead</td><td>0</td><td>NULL</td><td>0</td></tr><tr><td>media</td><td>6</td><td>NULL</td><td>6</td></tr><tr><td>occupation</td><td>101</td><td>101</td><td>0</td></tr><tr><td>order_detail</td><td>NULL</td><td>63778</td><td>-63778</td></tr><tr><td>order_header</td><td>44425</td><td>44425</td><td>0</td></tr><tr><td>order_item</td><td>63770</td><td>NULL</td><td>63770</td></tr><tr><td>package</td><td>0</td><td>24</td><td>-24</td></tr><tr><td>package_type</td><td>0</td><td>6</td><td>-6</td></tr><tr><td>permission</td><td>2</td><td>2</td><td>0</td></tr><tr><td>phone_number</td><td>52822</td><td>NULL</td><td>52822</td></tr><tr><td>phone_number_junction</td><td>54158</td><td>NULL</td><td>54158</td></tr><tr><td>phone_number_type</td><td>2</td><td>2</td><td>0</td></tr><tr><td>product</td><td>2459</td><td>2458</td><td>1</td></tr><tr><td>product_category</td><td>4</td><td>3</td><td>1</td></tr><tr><td>product_status</td><td>6</td><td>4</td><td>2</td></tr><tr><td>product_type</td><td>66</td><td>65</td><td>1</td></tr><tr><td>region</td><td>11</td><td>11</td><td>0</td></tr><tr><td>state</td><td>50</td><td>50</td><td>0</td></tr><tr><td>store</td><td>102</td><td>102</td><td>0</td></tr><tr><td>store_type</td><td>4</td><td>NULL</td><td>4</td></tr><tr><td>subscriber_band</td><td>4</td><td>NULL</td><td>4</td></tr><tr><td>subscriber_class</td><td>4</td><td>NULL</td><td>4</td></tr><tr><td>subscription_sales</td><td>0</td><td>NULL</td><td>0</td></tr><tr><td>subscription_status</td><td>0</td><td>NULL</td><td>0</td></tr><tr><td>supplier</td><td>0</td><td>NULL</td><td>0</td></tr><tr><td>supplier_performance</td><td>0</td><td>NULL</td><td>0</td></tr><tr><td>supplier_status</td><td>0</td><td>NULL</td><td>0</td></tr><tr><td>sysdiagrams</td><td>5</td><td>NULL</td><td>5</td></tr></table>"
                    },
                    "metadata": {}
                }
            ],
            "execution_count": 1
        },
        {
            "cell_type": "markdown",
            "source": [
                "## Test 2"
            ],
            "metadata": {
                "language": "sql",
                "azdata_cell_guid": "d34a993d-3fbe-4945-9114-1cc0393b9f75"
            }
        },
        {
            "cell_type": "markdown",
            "source": [
                "|table_name\t|NDS\t|Stage\t|nds_Stage_diff|Note|\r\n",
                "|---|---|---|---|---|\r\n",
                "|address\t|108412\t|NULL\t|108412|\r\n",
                "|address_junction\t|49592\t|NULL\t|49592|\r\n",
                "|address_type\t|2\t|2\t|0|\r\n",
                "|artist\t|597\t|576\t|21| From Jade Artist2|\r\n",
                "|business_unit\t|0\t|NULL\t|0|\r\n",
                "|campaign\t|0\t|NULL\t|0|\r\n",
                "|campaign_result\t|0\t|NULL\t|0|\r\n",
                "|channel\t6\t|NULL\t|6|\r\n",
                "|channel_junction\t|108316\t|NULL\t|108316|\r\n",
                "|city\t|341\t|NULL\t|341|\r\n",
                "|communication\t0\tNULL\t0\r\n",
                "|communication_category\t0\tNULL\t0\r\n",
                "communication_subscription\t0\tNULL\t0\r\n",
                "contact\t0\tNULL\t0\r\n",
                "country\t243\t243\t0\r\n",
                "currency\t175\t175\t0\r\n",
                "currency_rate\t121\t121\t0\r\n",
                "customer\t54158\t54158\t0\r\n",
                "customer_status\t4\t4\t0\r\n",
                "customer_type\t3\t3\t0\r\n",
                "delivery_status\t0\tNULL\t0\r\n",
                "delivery_status_category\t0\tNULL\t0\r\n",
                "division\t3\t3\t0\r\n",
                "email_address\t54155\tNULL\t54155\r\n",
                "email_address_junction\t54158\tNULL\t54158\r\n",
                "email_address_type\t2\t2\t0\r\n",
                "format\t28\t27\t1\r\n",
                "household_income\t11\t11\t0\r\n",
                "interest\t38\t38\t0\r\n",
                "interest_junction\t160351\tNULL\t160351\r\n",
                "language\t0\t505\t-505\r\n",
                "lead\t0\tNULL\t0\r\n",
                "media\t6\tNULL\t6\r\n",
                "occupation\t101\t101\t0\r\n",
                "order_detail\tNULL\t63778\t-63778\r\n",
                "order_header\t44425\t44425\t0\r\n",
                "order_item\t63770\tNULL\t63770\r\n",
                "package\t0\t24\t-24\r\n",
                "package_type\t0\t6\t-6\r\n",
                "permission\t2\t2\t0\r\n",
                "phone_number\t52822\tNULL\t52822\r\n",
                "phone_number_junction\t54158\tNULL\t54158\r\n",
                "phone_number_type\t2\t2\t0\r\n",
                "product\t2459\t2458\t1\r\n",
                "product_category\t4\t3\t1\r\n",
                "product_status\t6\t4\t2\r\n",
                "product_type\t66\t65\t1\r\n",
                "region\t11\t11\t0\r\n",
                "state\t50\t50\t0\r\n",
                "store\t102\t102\t0\r\n",
                "store_type\t4\tNULL\t4\r\n",
                "subscriber_band\t4\tNULL\t4\r\n",
                "subscriber_class\t4\tNULL\t4\r\n",
                "subscription_sales\t0\tNULL\t0\r\n",
                "subscription_status\t0\tNULL\t0\r\n",
                "supplier\t0\tNULL\t0\r\n",
                "supplier_performance\t0\tNULL\t0\r\n",
                "supplier_status\t0\tNULL\t0\r\n",
                "sysdiagrams\t5\tNULL\t5"
            ],
            "metadata": {
                "language": "sql",
                "azdata_cell_guid": "6833e0f8-ac7b-4707-a42e-12f491bfc0b1"
            },
            "attachments": {}
        }
    ]
}